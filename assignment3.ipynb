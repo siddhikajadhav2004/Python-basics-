{
 "cells": [
  {
   "cell_type": "code",
   "execution_count": 1,
   "id": "d0530101-a499-4157-adb9-91762b726e39",
   "metadata": {},
   "outputs": [
    {
     "name": "stdout",
     "output_type": "stream",
     "text": [
      "   order_id  quantity                              item_name  \\\n",
      "0         1         1           Chips and Fresh Tomato Salsa   \n",
      "1         1         1                                   Izze   \n",
      "2         1         1                       Nantucket Nectar   \n",
      "3         1         1  Chips and Tomatillo-Green Chili Salsa   \n",
      "4         2         2                           Chicken Bowl   \n",
      "\n",
      "                                  choice_description item_price  \n",
      "0                                                NaN     $2.39   \n",
      "1                                       [Clementine]     $3.39   \n",
      "2                                            [Apple]     $3.39   \n",
      "3                                                NaN     $2.39   \n",
      "4  [Tomatillo-Red Chili Salsa (Hot), [Black Beans...    $16.98   \n"
     ]
    }
   ],
   "source": [
    "import pandas as pd\n",
    "import requests\n",
    "from io import StringIO\n",
    "url = \"https://raw.githubusercontent.com/justmarkham/DAT8/master/data/chipotle.tsv\"\n",
    "response = requests.get(url)\n",
    "chipo = pd.read_csv(StringIO(response.text), sep='\\t')\n",
    "print(chipo.head())\n",
    "\n"
   ]
  },
  {
   "cell_type": "code",
   "execution_count": 2,
   "id": "5b5066f2-2639-45be-9939-1f9dae314637",
   "metadata": {},
   "outputs": [
    {
     "name": "stdout",
     "output_type": "stream",
     "text": [
      "Number of products that cost more than $10.00: 1130\n"
     ]
    }
   ],
   "source": [
    "chipo['item_price'] = chipo['item_price'].str.replace('$', '').astype(float)\n",
    "products_over_10 = chipo[chipo['item_price'] > 10]\n",
    "num_products_over_10 = len(products_over_10)\n",
    "print(\"Number of products that cost more than $10.00:\", num_products_over_10)\n"
   ]
  },
  {
   "cell_type": "code",
   "execution_count": 14,
   "id": "03b36740-a200-43ae-82b0-9074df2ab73e",
   "metadata": {},
   "outputs": [
    {
     "name": "stdout",
     "output_type": "stream",
     "text": [
      "Chipotle DataFrame:\n",
      "      order_id  quantity                              item_name  \\\n",
      "0            1         1           Chips and Fresh Tomato Salsa   \n",
      "1            1         1                                   Izze   \n",
      "2            1         1                       Nantucket Nectar   \n",
      "3            1         1  Chips and Tomatillo-Green Chili Salsa   \n",
      "4            2         2                           Chicken Bowl   \n",
      "...        ...       ...                                    ...   \n",
      "4617      1833         1                          Steak Burrito   \n",
      "4618      1833         1                          Steak Burrito   \n",
      "4619      1834         1                     Chicken Salad Bowl   \n",
      "4620      1834         1                     Chicken Salad Bowl   \n",
      "4621      1834         1                     Chicken Salad Bowl   \n",
      "\n",
      "                                     choice_description item_price  \n",
      "0                                                   NaN     $2.39   \n",
      "1                                          [Clementine]     $3.39   \n",
      "2                                               [Apple]     $3.39   \n",
      "3                                                   NaN     $2.39   \n",
      "4     [Tomatillo-Red Chili Salsa (Hot), [Black Beans...    $16.98   \n",
      "...                                                 ...        ...  \n",
      "4617  [Fresh Tomato Salsa, [Rice, Black Beans, Sour ...    $11.75   \n",
      "4618  [Fresh Tomato Salsa, [Rice, Sour Cream, Cheese...    $11.75   \n",
      "4619  [Fresh Tomato Salsa, [Fajita Vegetables, Pinto...    $11.25   \n",
      "4620  [Fresh Tomato Salsa, [Fajita Vegetables, Lettu...     $8.75   \n",
      "4621  [Fresh Tomato Salsa, [Fajita Vegetables, Pinto...     $8.75   \n",
      "\n",
      "[4622 rows x 5 columns]\n",
      "\n",
      "Information about the Chipotle DataFrame:\n",
      "<class 'pandas.core.frame.DataFrame'>\n",
      "RangeIndex: 4622 entries, 0 to 4621\n",
      "Data columns (total 5 columns):\n",
      " #   Column              Non-Null Count  Dtype \n",
      "---  ------              --------------  ----- \n",
      " 0   order_id            4622 non-null   int64 \n",
      " 1   quantity            4622 non-null   int64 \n",
      " 2   item_name           4622 non-null   object\n",
      " 3   choice_description  3376 non-null   object\n",
      " 4   item_price          4622 non-null   object\n",
      "dtypes: int64(2), object(3)\n",
      "memory usage: 180.7+ KB\n",
      "None\n"
     ]
    }
   ],
   "source": [
    "import pandas as pd\n",
    "url = \"https://raw.githubusercontent.com/justmarkham/DAT8/master/data/chipotle.tsv\"\n",
    "chipo = pd.read_csv(url, sep='\\t')\n",
    "print(\"Chipotle DataFrame:\")\n",
    "print(chipo)\n",
    "print(\"\\nInformation about the Chipotle DataFrame:\")\n",
    "print(chipo.info())\n"
   ]
  },
  {
   "cell_type": "code",
   "execution_count": 11,
   "id": "64b14c78-d24a-497b-9b28-663ca80abc59",
   "metadata": {},
   "outputs": [
    {
     "name": "stdout",
     "output_type": "stream",
     "text": [
      "Chipotle DataFrame:\n",
      "      order_id  quantity                              item_name  \\\n",
      "0            1         1           Chips and Fresh Tomato Salsa   \n",
      "1            1         1                                   Izze   \n",
      "2            1         1                       Nantucket Nectar   \n",
      "3            1         1  Chips and Tomatillo-Green Chili Salsa   \n",
      "4            2         2                           Chicken Bowl   \n",
      "...        ...       ...                                    ...   \n",
      "4617      1833         1                          Steak Burrito   \n",
      "4618      1833         1                          Steak Burrito   \n",
      "4619      1834         1                     Chicken Salad Bowl   \n",
      "4620      1834         1                     Chicken Salad Bowl   \n",
      "4621      1834         1                     Chicken Salad Bowl   \n",
      "\n",
      "                                     choice_description item_price  \n",
      "0                                                   NaN     $2.39   \n",
      "1                                          [Clementine]     $3.39   \n",
      "2                                               [Apple]     $3.39   \n",
      "3                                                   NaN     $2.39   \n",
      "4     [Tomatillo-Red Chili Salsa (Hot), [Black Beans...    $16.98   \n",
      "...                                                 ...        ...  \n",
      "4617  [Fresh Tomato Salsa, [Rice, Black Beans, Sour ...    $11.75   \n",
      "4618  [Fresh Tomato Salsa, [Rice, Sour Cream, Cheese...    $11.75   \n",
      "4619  [Fresh Tomato Salsa, [Fajita Vegetables, Pinto...    $11.25   \n",
      "4620  [Fresh Tomato Salsa, [Fajita Vegetables, Lettu...     $8.75   \n",
      "4621  [Fresh Tomato Salsa, [Fajita Vegetables, Pinto...     $8.75   \n",
      "\n",
      "[4622 rows x 5 columns]\n",
      "\n",
      "Information about the Chipotle DataFrame:\n",
      "<class 'pandas.core.frame.DataFrame'>\n",
      "RangeIndex: 4622 entries, 0 to 4621\n",
      "Data columns (total 5 columns):\n",
      " #   Column              Non-Null Count  Dtype \n",
      "---  ------              --------------  ----- \n",
      " 0   order_id            4622 non-null   int64 \n",
      " 1   quantity            4622 non-null   int64 \n",
      " 2   item_name           4622 non-null   object\n",
      " 3   choice_description  3376 non-null   object\n",
      " 4   item_price          4622 non-null   object\n",
      "dtypes: int64(2), object(3)\n",
      "memory usage: 180.7+ KB\n",
      "None\n"
     ]
    }
   ],
   "source": []
  },
  {
   "cell_type": "code",
   "execution_count": 16,
   "id": "33ba21ba-38bb-4f0e-9571-5282677f06d9",
   "metadata": {},
   "outputs": [
    {
     "name": "stdout",
     "output_type": "stream",
     "text": [
      "                  item_name item_price\n",
      "56      Barbacoa Soft Tacos     $9.25 \n",
      "554   Carnitas Crispy Tacos     $9.25 \n",
      "92       Steak Crispy Tacos     $9.25 \n",
      "8          Steak Soft Tacos     $9.25 \n",
      "237     Carnitas Soft Tacos     $9.25 \n",
      "...                     ...        ...\n",
      "3599          Bottled Water    $10.50 \n",
      "6             Side of Chips     $1.69 \n",
      "263       Canned Soft Drink     $1.25 \n",
      "28              Canned Soda     $1.09 \n",
      "34            Bottled Water     $1.09 \n",
      "\n",
      "[103 rows x 2 columns]\n"
     ]
    }
   ],
   "source": [
    "import pandas as pd\n",
    "\n",
    "url = \"https://raw.githubusercontent.com/justmarkham/DAT8/master/data/chipotle.tsv\"\n",
    "chipo = pd.read_csv(url, sep='\\t')\n",
    "chipo_filtered = chipo.drop_duplicates(subset=['item_name', 'quantity'])\n",
    "items_price = chipo_filtered[['item_name', 'item_price']]\n",
    "items_price_sorted = items_price.sort_values(by='item_price', ascending=False)\n",
    "print(items_price_sorted)\n",
    "\n"
   ]
  },
  {
   "cell_type": "code",
   "execution_count": 17,
   "id": "25c496cc-c9b1-4094-a6a1-f7654f85ee08",
   "metadata": {},
   "outputs": [
    {
     "name": "stdout",
     "output_type": "stream",
     "text": [
      "                  item_name item_price\n",
      "298       6 Pack Soft Drink     $6.49 \n",
      "3389      6 Pack Soft Drink    $12.98 \n",
      "39            Barbacoa Bowl    $11.75 \n",
      "21         Barbacoa Burrito     $8.99 \n",
      "1903  Barbacoa Crispy Tacos    $18.50 \n",
      "...                     ...        ...\n",
      "1653    Veggie Crispy Tacos     $8.49 \n",
      "1694           Veggie Salad     $8.49 \n",
      "186       Veggie Salad Bowl    $11.25 \n",
      "3889      Veggie Soft Tacos    $16.98 \n",
      "738       Veggie Soft Tacos    $11.25 \n",
      "\n",
      "[103 rows x 2 columns]\n"
     ]
    }
   ],
   "source": [
    "import pandas as pd\n",
    "url = \"https://raw.githubusercontent.com/justmarkham/DAT8/master/data/chipotle.tsv\"\n",
    "chipo = pd.read_csv(url, sep='\\t')\n",
    "chipo_filtered = chipo.drop_duplicates(subset=['item_name', 'quantity'])\n",
    "items_price = chipo_filtered[['item_name', 'item_price']]\n",
    "items_price_sorted = items_price.sort_values(by='item_name')\n",
    "print(items_price_sorted)\n"
   ]
  },
  {
   "cell_type": "code",
   "execution_count": 18,
   "id": "8726c027-44eb-4153-b809-76f06505853c",
   "metadata": {},
   "outputs": [
    {
     "name": "stdout",
     "output_type": "stream",
     "text": [
      "Quantity of the most expensive item ordered: 15\n"
     ]
    }
   ],
   "source": [
    "import pandas as pd\n",
    "url = \"https://raw.githubusercontent.com/justmarkham/DAT8/master/data/chipotle.tsv\"\n",
    "chipo = pd.read_csv(url, sep='\\t')\n",
    "chipo['item_price'] = chipo['item_price'].apply(lambda x: float(x[1:]))\n",
    "sorted_chipo = chipo.sort_values(by='item_price', ascending=False)\n",
    "most_expensive_quantity = sorted_chipo.iloc[0]['quantity']\n",
    "print(\"Quantity of the most expensive item ordered:\", most_expensive_quantity)\n"
   ]
  },
  {
   "cell_type": "code",
   "execution_count": 19,
   "id": "2220df58-2926-4322-898f-46bd69e8b11f",
   "metadata": {},
   "outputs": [
    {
     "name": "stdout",
     "output_type": "stream",
     "text": [
      "Total Veggie Salad Bowl orders: 18\n"
     ]
    }
   ],
   "source": [
    "import pandas as pd\n",
    "url = \"https://raw.githubusercontent.com/justmarkham/DAT8/master/data/chipotle.tsv\"\n",
    "chipo = pd.read_csv(url, sep='\\t')\n",
    "veggie_salad_bowl_orders = chipo[chipo['item_name'] == 'Veggie Salad Bowl']\n",
    "total_veggie_salad_bowl_orders = veggie_salad_bowl_orders['quantity'].sum()\n",
    "print(\"Total Veggie Salad Bowl orders:\", total_veggie_salad_bowl_orders)\n",
    "\n"
   ]
  },
  {
   "cell_type": "code",
   "execution_count": 20,
   "id": "97f5e35d-3a6a-42d1-85f3-62b6c2be6d6a",
   "metadata": {},
   "outputs": [
    {
     "name": "stdout",
     "output_type": "stream",
     "text": [
      "Total orders of more than one Canned Soda: 20\n"
     ]
    }
   ],
   "source": [
    "import pandas as pd\n",
    "url = \"https://raw.githubusercontent.com/justmarkham/DAT8/master/data/chipotle.tsv\"\n",
    "chipo = pd.read_csv(url, sep='\\t')\n",
    "multiple_canned_soda_orders = chipo[(chipo['item_name'] == 'Canned Soda') & (chipo['quantity'] > 1)]\n",
    "total_multiple_canned_soda_orders = multiple_canned_soda_orders.shape[0]\n",
    "print(\"Total orders of more than one Canned Soda:\", total_multiple_canned_soda_orders)\n",
    "\n"
   ]
  },
  {
   "cell_type": "code",
   "execution_count": null,
   "id": "754ca406-d6da-493b-bcfb-301d6295dc17",
   "metadata": {},
   "outputs": [],
   "source": []
  }
 ],
 "metadata": {
  "kernelspec": {
   "display_name": "Python 3 (ipykernel)",
   "language": "python",
   "name": "python3"
  },
  "language_info": {
   "codemirror_mode": {
    "name": "ipython",
    "version": 3
   },
   "file_extension": ".py",
   "mimetype": "text/x-python",
   "name": "python",
   "nbconvert_exporter": "python",
   "pygments_lexer": "ipython3",
   "version": "3.11.3"
  }
 },
 "nbformat": 4,
 "nbformat_minor": 5
}
